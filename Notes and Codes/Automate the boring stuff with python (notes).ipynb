{
 "cells": [
  {
   "cell_type": "markdown",
   "metadata": {},
   "source": [
    "                            functions\n",
    "             print(), input(), len(), str(), int(), float() "
   ]
  },
  {
   "cell_type": "code",
   "execution_count": null,
   "metadata": {},
   "outputs": [],
   "source": [
    "str(288)\n",
    "age = 22\n",
    "12 > int(age)\n",
    "float(5656)\n",
    "int(99.99)"
   ]
  },
  {
   "cell_type": "code",
   "execution_count": null,
   "metadata": {},
   "outputs": [],
   "source": [
    "'spam'+'spamspam'\n",
    "'I have eaten ' + '99' + ' burritos.'"
   ]
  },
  {
   "cell_type": "markdown",
   "metadata": {},
   "source": [
    "Extra credit: Search online for the Python documentation for the len() function. It will be on a web page titled “Built-in Functions.” Skim the list of other functions Python has, look up what the round() function does, and experiment with it in the interactive shell."
   ]
  },
  {
   "cell_type": "code",
   "execution_count": null,
   "metadata": {},
   "outputs": [],
   "source": [
    "print('hello world')\n"
   ]
  },
  {
   "cell_type": "code",
   "execution_count": null,
   "metadata": {},
   "outputs": [],
   "source": [
    "passwordFile = open('SecretPasswordFile.txt')\n",
    "secretPassword = passwordFile.read()\n",
    "print('Enter your password.') \n",
    "typedPassword = input()\n",
    "if typedPassword == secretPassword: \n",
    "    print('Access granted')    \n",
    "    if typedPassword == '12345': \n",
    "     print('That password is one that an idiot puts on their luggage.')\n",
    "else: \n",
    "     print('Access denied')\n"
   ]
  },
  {
   "cell_type": "code",
   "execution_count": null,
   "metadata": {},
   "outputs": [],
   "source": [
    "42 + 3 "
   ]
  },
  {
   "cell_type": "markdown",
   "metadata": {},
   "source": [
    "Copy and paste the entire error message and your code to http://pastebin .com/ or http://gist.github.com/. "
   ]
  },
  {
   "cell_type": "code",
   "execution_count": null,
   "metadata": {},
   "outputs": [],
   "source": [
    "2+2"
   ]
  },
  {
   "cell_type": "code",
   "execution_count": null,
   "metadata": {},
   "outputs": [],
   "source": [
    "2"
   ]
  },
  {
   "cell_type": "code",
   "execution_count": null,
   "metadata": {},
   "outputs": [],
   "source": [
    "22//8"
   ]
  },
  {
   "cell_type": "markdown",
   "metadata": {},
   "source": [
    "                arithmetic operators\n",
    "** Exponent 2 ** 3 8\n",
    "% Modulus/remainder 22 % 8 6\n",
    "// Integer division/floored quotient 22 // 8 2 \n",
    "/ Division 22 / 8 2.75 \n",
    "* Multiplication 3 * 5 15 \n",
    "- Subtraction 5 - 2 3 \n",
    "+ Addition 2 + 2 4\n"
   ]
  },
  {
   "cell_type": "code",
   "execution_count": null,
   "metadata": {},
   "outputs": [],
   "source": [
    "485678 * 578453 "
   ]
  },
  {
   "cell_type": "code",
   "execution_count": null,
   "metadata": {},
   "outputs": [],
   "source": [
    "5+2"
   ]
  },
  {
   "cell_type": "markdown",
   "metadata": {},
   "source": [
    "                    Common Data Types \n",
    "Integers\n",
    "Floating-point numbers\n",
    "Strings\n",
    "Boolean \n",
    "Nonetype"
   ]
  },
  {
   "cell_type": "code",
   "execution_count": null,
   "metadata": {},
   "outputs": [],
   "source": [
    "'jeyne'+' '+'poole'"
   ]
  },
  {
   "cell_type": "code",
   "execution_count": null,
   "metadata": {},
   "outputs": [],
   "source": [
    "'Alice' + 'Bob'"
   ]
  },
  {
   "cell_type": "code",
   "execution_count": null,
   "metadata": {},
   "outputs": [],
   "source": [
    "'Alice' + '6'"
   ]
  },
  {
   "cell_type": "code",
   "execution_count": null,
   "metadata": {},
   "outputs": [],
   "source": [
    "'Alice' * 5"
   ]
  },
  {
   "cell_type": "markdown",
   "metadata": {},
   "source": [
    "                String concatenation and replication\n",
    "The expression evaluates down to a single string value that repeats the original a number of times equal to the integer value. String replication is a useful trick, but it’s not used as often as string concatenation. The * operator can be used with only two numeric values (for multiplication) or one string value and one integer value (for string replication). Otherwise, Python will just display an error message.\n"
   ]
  },
  {
   "cell_type": "markdown",
   "metadata": {},
   "source": [
    "                Storing Values in Variables \n",
    "A variable is like a box in the computer’s memory where you can store a single value. If you want to use the result of an evaluated expression later in your program, you can save it inside a variable.\n"
   ]
  },
  {
   "cell_type": "markdown",
   "metadata": {},
   "source": [
    "                Assignment Statements \n",
    "You’ll store values in variables with an assignment statement. An assignment statement consists of a variable name, an equal sign (called the assignment operator), and the value to be stored. If you enter the assignment statement spam = 42, then a variable named spam will have the integer value 42 stored in it."
   ]
  },
  {
   "cell_type": "code",
   "execution_count": null,
   "metadata": {},
   "outputs": [],
   "source": [
    "Age = 50\n",
    "Time = 7\n",
    "Age + Time\n",
    "Age = Age + Time\n",
    "Age"
   ]
  },
  {
   "cell_type": "code",
   "execution_count": null,
   "metadata": {},
   "outputs": [],
   "source": [
    "word = 'spoilt'\n",
    "word\n",
    "word = 'tapped'\n",
    "word"
   ]
  },
  {
   "cell_type": "markdown",
   "metadata": {},
   "source": [
    "                Variable Names\n",
    "You can name a variable anything as long as it obeys the following three rules:\n",
    "1. It can be only one word. \n",
    "2. It can use only letters, numbers, and the underscore (_) character. \n",
    "3. It can’t begin with a number.\n"
   ]
  },
  {
   "cell_type": "code",
   "execution_count": null,
   "metadata": {},
   "outputs": [],
   "source": [
    "ola = True\n",
    "ola"
   ]
  },
  {
   "cell_type": "markdown",
   "metadata": {},
   "source": [
    "                            OPERATORS"
   ]
  },
  {
   "cell_type": "markdown",
   "metadata": {},
   "source": [
    "                arithmetic operators\n",
    "** Exponent  \n",
    "% Modulus/remainder \n",
    "// Integer division/floored quotient \n",
    "/ Division \n",
    "* Multiplication \n",
    "- Subtraction \n",
    "+ Addition "
   ]
  },
  {
   "cell_type": "markdown",
   "metadata": {},
   "source": [
    "                comparison operators\n",
    "Comparison operators compare two values and evaluate down to a single Boolean value.\n",
    "\n",
    "== Equal to \n",
    "!= Not equal to \n",
    "< Less than \n",
    "> Greater than \n",
    "<= Less than or equal to \n",
    ">= Greater than or equal to\n",
    " "
   ]
  },
  {
   "cell_type": "code",
   "execution_count": null,
   "metadata": {},
   "outputs": [],
   "source": [
    "'ola' != 'ola'"
   ]
  },
  {
   "cell_type": "code",
   "execution_count": null,
   "metadata": {},
   "outputs": [],
   "source": [
    "101 >= 112\n",
    "'dog' != 'cat'"
   ]
  },
  {
   "cell_type": "code",
   "execution_count": null,
   "metadata": {},
   "outputs": [],
   "source": [
    "jjjeorge = 22\n",
    "jjjeorge >= 21"
   ]
  },
  {
   "cell_type": "markdown",
   "metadata": {},
   "source": [
    "        the DifferenCe Between the == AnD = oPerAtorS\n",
    "\n",
    " You might have noticed that the == operator (equal to) has two equal signs, while the = operator (assignment) has just one equal sign . It’s easy to confuse these two operators with each other . Just remember these points: •\tThe == operator (equal to) asks whether two values are the same as each other . •\tThe = operator (assignment) puts the value on the right into the variable on the left . To help remember which is which, notice that the == operator (equal to) consists of two characters, just like the != operator (not equal to) consists of two characters . "
   ]
  },
  {
   "cell_type": "markdown",
   "metadata": {},
   "source": [
    "                Boolean operators\n",
    "The three Boolean operators (and, or, and not) are used to compare Boolean values. Like comparison operators, they evaluate these expressions down to a Boolean value. Let’s explore these operators in detail, starting with the and operator.\n"
   ]
  },
  {
   "cell_type": "markdown",
   "metadata": {},
   "source": [
    "\n",
    "                Binary Boolean Operators\n",
    "The and and or operators always take two Boolean values (or expressions), so they’re considered binary operators. The and operator evaluates an expression to True if both Boolean values are True; otherwise, it evaluates to False. Enter some expressions using and into the interactive shell to see it in action.\n"
   ]
  },
  {
   "cell_type": "code",
   "execution_count": null,
   "metadata": {},
   "outputs": [],
   "source": [
    "True and True\n",
    "True and False\n",
    "False and False\n",
    "True"
   ]
  },
  {
   "cell_type": "code",
   "execution_count": null,
   "metadata": {},
   "outputs": [],
   "source": [
    "True or True\n",
    "True or False"
   ]
  },
  {
   "cell_type": "code",
   "execution_count": null,
   "metadata": {},
   "outputs": [],
   "source": [
    "not True\n",
    "not False\n",
    "not not True"
   ]
  },
  {
   "cell_type": "code",
   "execution_count": null,
   "metadata": {},
   "outputs": [],
   "source": [
    "(4 != 5) and (22 > 12)\n",
    "(1 == 2) or (2 == 2)\n",
    "(2 + 2) == 4 and not 2 + 2 == 5 and 2 * 2 == 2 + 2"
   ]
  },
  {
   "cell_type": "markdown",
   "metadata": {},
   "source": [
    "Flow control statements often start with a part called the condition, and all are followed by a block of code called the clause. Before you learn about Python’s specific flow control statements, I’ll cover what a condition and a block are.\n",
    "\n",
    "                Conditions\n",
    " The Boolean expressions you’ve seen so far could all be considered conditions, which are the same thing as expressions; condition is just a more specific name in the context of flow control statements. Conditions always evaluate down to a Boolean value, True or False. A flow control statement decides what to do based on whether its condition is True or False, and almost every flow control statement uses a condition.\n",
    "\n",
    "                Blocks of Code\n",
    "Lines of Python code can be grouped together in blocks. You can tell when a block begins and ends from the indentation of the lines of code. There are three rules for blocks.\n",
    "1. Blocks begin when the indentation increases. \n",
    "2. Blocks can contain other blocks. \n",
    "3. Blocks end when the indentation decreases to zero or to a containing block’s indentation.\n"
   ]
  },
  {
   "cell_type": "markdown",
   "metadata": {},
   "source": [
    "                    Flow Control Statements"
   ]
  },
  {
   "cell_type": "markdown",
   "metadata": {},
   "source": [
    "                if Statements\n",
    "The if keyword \n",
    "A condition (that is, an expression that evaluates to True or False) \t\n",
    "A colon\n",
    "Starting on the next line, an indented block of code (called the if clause)"
   ]
  },
  {
   "cell_type": "code",
   "execution_count": null,
   "metadata": {},
   "outputs": [],
   "source": [
    "age = 44\n",
    "if age == 12:\n",
    "    print ('wow so true')"
   ]
  },
  {
   "cell_type": "markdown",
   "metadata": {},
   "source": [
    "                else Statements\n",
    "The else keyword \t\n",
    "A colon \n",
    "Starting on the next line, an indented block of code (called the else clause)"
   ]
  },
  {
   "cell_type": "code",
   "execution_count": null,
   "metadata": {},
   "outputs": [],
   "source": [
    "age = 44\n",
    "if age > 12:\n",
    "    print ('wow so true')\n",
    "else:\n",
    "    print('wow so false')"
   ]
  },
  {
   "cell_type": "markdown",
   "metadata": {},
   "source": [
    "                elif Statements\n",
    "The elif keyword \t\n",
    "A condition (that is, an expression that evaluates to True or False) \t\n",
    "A colon \t\n",
    "Starting on the next line, an indented block of code (called the elif clause)\n"
   ]
  },
  {
   "cell_type": "code",
   "execution_count": null,
   "metadata": {},
   "outputs": [],
   "source": [
    "age = 2033\n",
    "if age < 12:\n",
    "    print('nice try, kiddo') \n",
    "elif age > 2000:\n",
    "    print('hello vampire')\n",
    "elif age > 100:\n",
    "    print('hello geriatric person')"
   ]
  },
  {
   "cell_type": "markdown",
   "metadata": {},
   "source": [
    "                while Loop Statements\n",
    "The while keyword\n",
    "A condition (that is, an expression that evaluates to True or False)\n",
    "A colon \n",
    "Starting on the next line, an indented block of code (called the while clause)"
   ]
  },
  {
   "cell_type": "code",
   "execution_count": null,
   "metadata": {},
   "outputs": [],
   "source": [
    "spam = 0 \n",
    "while spam < 5:    \n",
    "    print('Hello, world.')    \n",
    "    spam = spam + 1"
   ]
  },
  {
   "cell_type": "markdown",
   "metadata": {},
   "source": [
    "                break Statements \n",
    "There is a shortcut to getting the program execution to break out of a while loop’s clause early. If the execution reaches a break statement, it immediately exits the while loop’s clause. In code, a break statement simply contains the break keyword. "
   ]
  },
  {
   "cell_type": "code",
   "execution_count": null,
   "metadata": {},
   "outputs": [],
   "source": [
    "soup = 4\n",
    "while soup > 2:\n",
    "    print ('Please type your name')\n",
    "    soup = soup - 1\n",
    "    name = input()\n",
    "    if name == 'your name':\n",
    "        break\n",
    "print ('Thank You')\n"
   ]
  },
  {
   "cell_type": "markdown",
   "metadata": {},
   "source": [
    "                continue Statements\n",
    "Like break statements, continue statements are used inside loops. When the program execution reaches a continue statement, the program execution immediately jumps back to the start of the loop and reevaluates the loop’s condition. (This is also what happens when the execution reaches the end of the loop.)"
   ]
  },
  {
   "cell_type": "code",
   "execution_count": null,
   "metadata": {},
   "outputs": [],
   "source": [
    "while True:\n",
    "    print('who are you?')\n",
    "    name = input()\n",
    "    if name != 'Joe':\n",
    "        continue\n",
    "    print('Hello, Joe. What is the password?(It is a fish)')\n",
    "    password = input()\n",
    "    if password == 'swordfish':\n",
    "        break\n",
    "print('access granted.')"
   ]
  },
  {
   "cell_type": "markdown",
   "metadata": {},
   "source": [
    "if the condition preceding a break is true, the break statement is initiated and the loop is broken \n",
    "                    however\n",
    "if the condition preceding a continue is true, the continue statement is initiated the loop re-executed"
   ]
  },
  {
   "cell_type": "markdown",
   "metadata": {},
   "source": [
    "                for Loops and the range() Function\n",
    "The for keyword \t\n",
    "A variable name \t\n",
    "The in keyword \n",
    "A call to the range() method with up to three integers passed to it \n",
    "A colon \t\n",
    "Starting on the next line, an indented block of code (called the for clause)"
   ]
  },
  {
   "cell_type": "code",
   "execution_count": null,
   "metadata": {},
   "outputs": [],
   "source": [
    "for age in range(5):\n",
    "    print(age)"
   ]
  },
  {
   "cell_type": "markdown",
   "metadata": {},
   "source": [
    "         the Starting, Stopping, and Stepping arguments to range()\n",
    "Some functions can be called with multiple arguments separated by a comma, and range() is one of them. This lets you change the integer passed to range() to follow any sequence of integers, including starting at a number other than zero. "
   ]
  },
  {
   "cell_type": "code",
   "execution_count": null,
   "metadata": {},
   "outputs": [],
   "source": [
    "for i in range(12, 16):    \n",
    "    print(i)"
   ]
  },
  {
   "cell_type": "markdown",
   "metadata": {},
   "source": [
    "The first argument will be where the for loop’s variable starts, and the second argument will be up to, but not including, the number to stop at. "
   ]
  },
  {
   "cell_type": "markdown",
   "metadata": {},
   "source": [
    "The range() function can also be called with three arguments. The first two arguments will be the start and stop values, and the third will be the step argument. The step is the amount that the variable is increased by after each iteration"
   ]
  },
  {
   "cell_type": "code",
   "execution_count": null,
   "metadata": {},
   "outputs": [],
   "source": [
    "for i in range(0, 10, 2):    \n",
    "    print(i)\n"
   ]
  },
  {
   "cell_type": "code",
   "execution_count": null,
   "metadata": {},
   "outputs": [],
   "source": [
    "for i in range(5, -1, -1):    \n",
    "    print(i)\n"
   ]
  },
  {
   "cell_type": "markdown",
   "metadata": {},
   "source": [
    "                Importing Modules \n",
    "The import keyword \n",
    "The name of the module \t\n",
    "Optionally, more module names, as long as they are separated by commas"
   ]
  },
  {
   "cell_type": "code",
   "execution_count": null,
   "metadata": {},
   "outputs": [],
   "source": [
    "import random"
   ]
  },
  {
   "cell_type": "markdown",
   "metadata": {},
   "source": [
    "                from import Statements\n",
    "composed of the from keyword\n",
    "followed by the module name\n",
    "the import keyword \n",
    "and a star"
   ]
  },
  {
   "cell_type": "code",
   "execution_count": null,
   "metadata": {},
   "outputs": [],
   "source": [
    "from random import *"
   ]
  },
  {
   "cell_type": "markdown",
   "metadata": {},
   "source": [
    "                            FunctionS\n"
   ]
  },
  {
   "cell_type": "code",
   "execution_count": null,
   "metadata": {},
   "outputs": [],
   "source": [
    "def hello():  \n",
    "    print('Howdy!')    \n",
    "    print('Howdy!!!')    \n",
    "    print('Hello there.')\n",
    "    \n",
    "hello() \n",
    "hello() \n",
    "hello()"
   ]
  },
  {
   "cell_type": "markdown",
   "metadata": {},
   "source": [
    "A major purpose of functions is to group code that gets executed multiple times. Without a function defined, you would have to copy and paste this code each time, and the program would look like this"
   ]
  },
  {
   "cell_type": "markdown",
   "metadata": {},
   "source": [
    "                def Statements with Parameters\n",
    "When you call the print() or len() function, you pass in values, called arguments in this context, by typing them between the parentheses. You can also define your own functions that accept arguments. "
   ]
  },
  {
   "cell_type": "code",
   "execution_count": null,
   "metadata": {},
   "outputs": [],
   "source": [
    "def hi(name):\n",
    "    print('Hi' + ' ' +name + ', you are welcome')\n",
    "hi('Bob') \n",
    "hi('Peace') "
   ]
  },
  {
   "cell_type": "markdown",
   "metadata": {},
   "source": [
    "A parameter is a variable that an argument is stored in when a function is called."
   ]
  },
  {
   "cell_type": "code",
   "execution_count": 7,
   "metadata": {},
   "outputs": [
    {
     "name": "stdout",
     "output_type": "stream",
     "text": [
      "Yes\n",
      "Reply hazy try again\n",
      "My reply is no\n"
     ]
    }
   ],
   "source": [
    "import random\n",
    "def getAnswer(answerNumber): \n",
    "    if answerNumber == 1:\n",
    "        return 'It is certain'\n",
    "    elif answerNumber == 2:\n",
    "        return 'It is decidedly so'\n",
    "    elif answerNumber == 3:\n",
    "        return 'Yes'\n",
    "    elif answerNumber == 4:\n",
    "        return 'Reply hazy try again'\n",
    "    elif answerNumber == 5:\n",
    "        return 'Ask again later'\n",
    "    elif answerNumber == 6:\n",
    "        return 'Concentrate and ask again'\n",
    "    elif answerNumber == 7:\n",
    "        return 'My reply is no'\n",
    "    elif answerNumber == 8:\n",
    "        return 'Outlook not so good'\n",
    "    elif answerNumber == 9:\n",
    "        return 'Very doubtful'\n",
    "    else:\n",
    "        return None\n",
    "\n",
    "r = random.randint(1, 9) \n",
    "fortune = getAnswer(r)\n",
    "print(fortune)\n",
    "\n",
    "print(getAnswer(random.randint(1, 9)))\n",
    "\n",
    "print(getAnswer(7))\n"
   ]
  },
  {
   "cell_type": "markdown",
   "metadata": {},
   "source": [
    "One special thing to note about parameters is that the value stored  in a parameter is forgotten when the function returns. For example, if you added print(name) after hello('Bob') in the previous program, the program would give you a NameError because there is no variable named name."
   ]
  },
  {
   "cell_type": "markdown",
   "metadata": {},
   "source": [
    "                return Values and return Statements\n",
    " In general, the value that a function call evaluates to is called the return value of the function. "
   ]
  },
  {
   "cell_type": "markdown",
   "metadata": {},
   "source": [
    "                The none Value\n",
    "Behind the scenes, Python adds return None to the end of any function definition with no return statement. This is similar to how a while or for loop implicitly ends with a continue statement. Also, if you use a return statement without a value (that is, just the return keyword by itself), then None is returned.\n"
   ]
  },
  {
   "cell_type": "markdown",
   "metadata": {},
   "source": [
    "This value-without-a-value can be helpful when you need to store something that won’t be confused for a real value in a variable. One place where None is used is as the return value of print(). "
   ]
  },
  {
   "cell_type": "markdown",
   "metadata": {},
   "source": [
    "The print() function displays text on the screen, but it doesn’t need to return anything in the same way len() or input() does. But since all function calls need to evaluate to a return value, print() returns None. "
   ]
  },
  {
   "cell_type": "markdown",
   "metadata": {},
   "source": [
    "                    keyword Arguments and print()\n",
    " keyword arguments are identified by the keyword put before them in the function call. Keyword arguments are often used for optional parameters. For example, the print() function has the optional parameters end and sep to specify what should be printed at the end of its arguments and between its arguments (separating them), respectively"
   ]
  },
  {
   "cell_type": "code",
   "execution_count": null,
   "metadata": {},
   "outputs": [],
   "source": [
    "print('Hello',  end=', ') \n",
    "print('World')\n",
    "\n",
    "print('cats', 'dogs', 'mice',  sep='/') "
   ]
  },
  {
   "cell_type": "markdown",
   "metadata": {},
   "source": [
    "                local and global Scope"
   ]
  },
  {
   "cell_type": "markdown",
   "metadata": {},
   "source": [
    "Parameters and variables that are assigned in a called function are said to exist in that function’s local scope. Variables that are assigned outside all functions are said to exist in the global scope. A variable that exists in a local scope is called a local variable, while a variable that exists in the global scope is called a global variable. A variable must be one or the other; it cannot be both local and global. "
   ]
  },
  {
   "cell_type": "markdown",
   "metadata": {},
   "source": [
    " There is only one global scope, and it is created when your program begins. When your program terminates, the global scope is destroyed, and all its variables are forgotten. Otherwise, the next time you ran your program, the variables would remember their values from the last time you ran it. A local scope is created whenever a function is called. Any variables assigned in this function exist within the local scope. When the function returns, the local scope is destroyed, and these variables are forgotten."
   ]
  },
  {
   "cell_type": "markdown",
   "metadata": {},
   "source": [
    "                Scopes matter for several reasons: \n",
    "•\tCode in the global scope cannot use any local variables. \n",
    "•\tHowever, a local scope can access global variables. \n",
    "•\tCode in a function’s local scope cannot use variables in any other local scope. \n",
    "•\tYou can use the same name for different variables if they are in different scopes. That is, there can be a local variable named spam and a global variable also named spam.\n"
   ]
  },
  {
   "cell_type": "markdown",
   "metadata": {},
   "source": [
    "To simplify your life, avoid using local variables that have the same name as a global variable or another local variable. But technically, it’s perfectly legal to do so in Python."
   ]
  },
  {
   "cell_type": "markdown",
   "metadata": {},
   "source": [
    "                The global Statement\n",
    "If you need to modify a global variable from within a function, use the global statement. "
   ]
  },
  {
   "cell_type": "code",
   "execution_count": 5,
   "metadata": {},
   "outputs": [
    {
     "name": "stdout",
     "output_type": "stream",
     "text": [
      "23\n"
     ]
    }
   ],
   "source": [
    "boy = 12\n",
    "def tt():\n",
    "    global boy\n",
    "    boy = boy + 11\n",
    "    print(boy)\n",
    "tt()"
   ]
  },
  {
   "cell_type": "markdown",
   "metadata": {},
   "source": [
    "There are four rules to tell whether a variable is in a local scope or global scope:\n",
    "1. If a variable is being used in the global scope (that is, outside of all functions), then it is always a global variable. \n",
    "2. If there is a global statement for that variable in a function, it is a global variable. \n",
    "3. Otherwise, if the variable is used in an assignment statement in the function, it is a local variable. \n",
    "4. But if the variable is not used in an assignment statement, it is a global variable."
   ]
  },
  {
   "cell_type": "markdown",
   "metadata": {},
   "source": [
    "                funCtionS AS “BlACk BoxeS”\n",
    "Often, all you need to know about a function are its inputs (the parameters) and output value; you don’t always have to burden yourself with how the function’s code actually works "
   ]
  },
  {
   "cell_type": "markdown",
   "metadata": {},
   "source": [
    "                exception handling\n",
    "Errors can be handled with try and except statements."
   ]
  },
  {
   "cell_type": "markdown",
   "metadata": {},
   "source": [
    "                    LISTS"
   ]
  },
  {
   "cell_type": "markdown",
   "metadata": {},
   "source": [
    "Lists and tuples can contain multiple values, which makes it easier to write programs that handle large amounts of data. And since lists themselves can contain other lists, you can use them to arrange data into hierarchical structures"
   ]
  },
  {
   "cell_type": "code",
   "execution_count": 23,
   "metadata": {},
   "outputs": [
    {
     "data": {
      "text/plain": [
       "['bat', 'rat', 'elephant']"
      ]
     },
     "execution_count": 23,
     "metadata": {},
     "output_type": "execute_result"
    }
   ],
   "source": [
    "spam = ['cat', 'bat', 'rat', 'elephant']\n",
    "spam[:4]\n",
    "spam[1:]\n"
   ]
  },
  {
   "cell_type": "markdown",
   "metadata": {},
   "source": [
    "Lists can also contain other list values. The values in these lists of lists can be accessed using multiple indexes, like so:\n"
   ]
  },
  {
   "cell_type": "code",
   "execution_count": 25,
   "metadata": {},
   "outputs": [
    {
     "data": {
      "text/plain": [
       "5"
      ]
     },
     "execution_count": 25,
     "metadata": {},
     "output_type": "execute_result"
    }
   ],
   "source": [
    "spam = [['cat', 'bat'], [10, 20, 30, 40, 50]] \n",
    "spam[1][-2]\n",
    "len(spam[1])"
   ]
  },
  {
   "cell_type": "markdown",
   "metadata": {},
   "source": [
    "The first index dictates which list value to use, and the second indicates the value within the list value. For example, spam[0][1] prints 'bat', the second value in the first list. If you only use one index, the program will print the full list value at that index."
   ]
  },
  {
   "cell_type": "markdown",
   "metadata": {},
   "source": [
    "                Changing Values in a List with Indexes\n",
    "Normally a variable name goes on the left side of an assignment statement, like spam = 42. However, you can also use an index of a list to change the value at that index."
   ]
  },
  {
   "cell_type": "code",
   "execution_count": 26,
   "metadata": {},
   "outputs": [
    {
     "data": {
      "text/plain": [
       "['cat', 'aardvark', 'rat', 'elephant']"
      ]
     },
     "execution_count": 26,
     "metadata": {},
     "output_type": "execute_result"
    }
   ],
   "source": [
    "spam = ['cat', 'bat', 'rat', 'elephant']\n",
    "spam[1] = 'aardvark'\n",
    "spam"
   ]
  },
  {
   "cell_type": "markdown",
   "metadata": {},
   "source": [
    "                List Concatenation and List Replication \n",
    "The + operator can combine two lists to create a new list value in the same way it combines two strings into a new string value. The * operator can also be used with a list and an integer value to replicate the list"
   ]
  },
  {
   "cell_type": "code",
   "execution_count": 1,
   "metadata": {},
   "outputs": [
    {
     "data": {
      "text/plain": [
       "[1, 2, 3, 1, 2, 3, 1, 2, 3]"
      ]
     },
     "execution_count": 1,
     "metadata": {},
     "output_type": "execute_result"
    }
   ],
   "source": [
    "[1, 2, 3] + ['A', 'B', 'C'] \n",
    "[1, 2, 3]*3"
   ]
  },
  {
   "cell_type": "markdown",
   "metadata": {},
   "source": [
    "            Removing Values from Lists with del Statements\n",
    "The del statement will delete values at an index in a list. All of the values in the list after the deleted value will be moved up one index. "
   ]
  },
  {
   "cell_type": "code",
   "execution_count": null,
   "metadata": {},
   "outputs": [],
   "source": [
    "spam = ['cat', 'bat', 'rat', 'elephant'] \n",
    "del spam[2]\n",
    "spam\n",
    "del spam\n",
    "spam"
   ]
  },
  {
   "cell_type": "code",
   "execution_count": 7,
   "metadata": {},
   "outputs": [
    {
     "data": {
      "text/plain": [
       "['yatch']"
      ]
     },
     "execution_count": 7,
     "metadata": {},
     "output_type": "execute_result"
    }
   ],
   "source": [
    "spam = []\n",
    "len(spam)\n",
    "spam = spam +['yatch']\n",
    "spam"
   ]
  }
 ],
 "metadata": {
  "interpreter": {
   "hash": "7faf2e648b6535b93d4b21ac7f22fc1d6efb7b0f9a01e7f52d56a83a4372ad59"
  },
  "kernelspec": {
   "display_name": "Python 3.10.4 64-bit",
   "language": "python",
   "name": "python3"
  },
  "language_info": {
   "codemirror_mode": {
    "name": "ipython",
    "version": 3
   },
   "file_extension": ".py",
   "mimetype": "text/x-python",
   "name": "python",
   "nbconvert_exporter": "python",
   "pygments_lexer": "ipython3",
   "version": "3.10.4"
  },
  "orig_nbformat": 4
 },
 "nbformat": 4,
 "nbformat_minor": 2
}
